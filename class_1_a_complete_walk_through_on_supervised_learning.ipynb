{
  "nbformat": 4,
  "nbformat_minor": 0,
  "metadata": {
    "colab": {
      "provenance": []
    },
    "kernelspec": {
      "name": "python3",
      "display_name": "Python 3"
    },
    "language_info": {
      "name": "python"
    }
  },
  "cells": [
    {
      "cell_type": "markdown",
      "source": [
        "**Supervised Learning(model learn from labels provided from used by extracting features and mapping it provided by a human trainer)**\n",
        "1. What is it and when it is needed?\n",
        "2. Real life Examples - Children learning about word from picture book, Robots learning how to use tools by observing trainer\n",
        "3. Types of Supervised learning\n",
        "4. Reference\n"
      ],
      "metadata": {
        "id": "uL7bbM2QXbE1"
      }
    },
    {
      "cell_type": "markdown",
      "source": [
        "Types of **Supervised Learning**\n",
        "\n",
        "1. **Classification**- A classification problem is when the output variable is a category, such as “Red” or “blue” , “disease” or “no disease”.\n",
        "2. **Regression** - A regression problem is when the output variable is a real value, such as “dollars” or “weight”."
      ],
      "metadata": {
        "id": "kMBNaxIUau_R"
      }
    },
    {
      "cell_type": "markdown",
      "source": [
        "**Regression**\n",
        "1. Linear Regression\n",
        "\n",
        "2. Polynomial Regression\n",
        "\n",
        "3. Support Vector Machine Regression\n",
        "\n",
        "4. Decision Tree Regression\n",
        "\n",
        "5. Random Forest Regression\n",
        "6. Bayesian Regression\n",
        "7. Regression Tree"
      ],
      "metadata": {
        "id": "z3dRjqtCbDmS"
      }
    },
    {
      "cell_type": "markdown",
      "source": [
        "**Classification**\n",
        "\n",
        "1. Logistic Regression\n",
        "\n",
        "2. Support Vector Machines\n",
        "\n",
        "3. Decision Trees\n",
        "\n",
        "4. Random Forests\n",
        "\n",
        "5. Naive Bayes (Chatbots, for next word prediction)\n"
      ],
      "metadata": {
        "id": "1fr4_dI4blQC"
      }
    },
    {
      "cell_type": "markdown",
      "source": [
        "**Logistic regression**"
      ],
      "metadata": {
        "id": "m9nPNJowm_ra"
      }
    },
    {
      "cell_type": "markdown",
      "source": [
        "**Support Vector Classification**"
      ],
      "metadata": {
        "id": "bDE33XpUnDCM"
      }
    },
    {
      "cell_type": "markdown",
      "source": [
        "**Decision Trees**"
      ],
      "metadata": {
        "id": "6qec5PcCnHtw"
      }
    },
    {
      "cell_type": "markdown",
      "source": [
        "**Random Forests**"
      ],
      "metadata": {
        "id": "uvjyVV4qvh2I"
      }
    },
    {
      "cell_type": "markdown",
      "source": [
        "**Naive Bayes**"
      ],
      "metadata": {
        "id": "DTcMIrR1vlrm"
      }
    },
    {
      "cell_type": "markdown",
      "source": [
        "#**Reference**\n",
        "1. https://www.geeksforgeeks.org/supervised-unsupervised-learning/\n",
        "2. https://www.geeksforgeeks.org/supervised-machine-learning/ (Overall view is good )\n",
        "3. https://scikit-learn.org/stable/supervised_learning.html (mathematics and indepths details)\n",
        "4. https://www.javatpoint.com/supervised-machine-learningv (all examples with code here)\n"
      ],
      "metadata": {
        "id": "2dxsaAOObDuH"
      }
    },
    {
      "cell_type": "markdown",
      "source": [
        "**Supervised learning Examples**\n",
        "\n",
        "Classification\n",
        "1. Handwritten Digit Recognition\n",
        "2. Medical Imaging\n",
        "3. Sentiment Analysis\n",
        "4. Spam Detection\n",
        "5. Fraud Detection\n",
        "6. Customer Segmentation\n",
        "7. Predicitive Diagnostics\n",
        "\n",
        "Detection\n",
        "8. Object detection\n",
        "9. Lane Detection\n",
        "\n",
        "Regression\n",
        "10. Churn prediction\n",
        "11. House price prediction.\n",
        "\n",
        "1. https://www.geeksforgeeks.org/supervised-machine-learning-examples/?ref=ml_lbp"
      ],
      "metadata": {
        "id": "IZMoKGmWx_bP"
      }
    }
  ]
}